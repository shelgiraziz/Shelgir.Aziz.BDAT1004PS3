{
 "cells": [
  {
   "cell_type": "code",
   "execution_count": 1,
   "id": "33f09bc7",
   "metadata": {},
   "outputs": [],
   "source": [
    "# Step 1 Import libraries\n",
    "import pandas as pd\n",
    "import numpy as np\n"
   ]
  },
  {
   "cell_type": "code",
   "execution_count": 2,
   "id": "b2e80947",
   "metadata": {},
   "outputs": [],
   "source": [
    "# Step 2 Create 3 differents Series, each of length 100\n",
    "\n",
    "# First Series\n",
    "s1 = pd.Series(np.random.randint(1, 5, size=100))\n",
    "\n",
    "# Second Series\n",
    "s2 = pd.Series(np.random.randint(1, 4, size=100))\n",
    "\n",
    "# Third Series\n",
    "s3 = pd.Series(np.random.randint(10000, 30001, size=100))\n"
   ]
  },
  {
   "cell_type": "code",
   "execution_count": 3,
   "id": "fa2fa38a",
   "metadata": {},
   "outputs": [],
   "source": [
    "# Step 3 Create a DataFrame by joinning the Series by column\n",
    "df = pd.concat([s1, s2, s3], axis=1)\n"
   ]
  },
  {
   "cell_type": "code",
   "execution_count": 4,
   "id": "ca8e0459",
   "metadata": {},
   "outputs": [],
   "source": [
    "# Step 4 Change the name of the columns to bedrs, bathrs, price_sqr_meter\n",
    "df.columns = ['bedrs', 'bathrs', 'price_sqr_meter']\n"
   ]
  },
  {
   "cell_type": "code",
   "execution_count": 5,
   "id": "4757fa9e",
   "metadata": {},
   "outputs": [],
   "source": [
    "# Step 5 Create a one column DataFrame with the values of the 3 Series and assign it to 'bigcolumn'\n",
    "bigcolumn = pd.concat([s1, s2, s3], axis=0)\n",
    "bigcolumn = bigcolumn.to_frame()\n"
   ]
  },
  {
   "cell_type": "code",
   "execution_count": 7,
   "id": "76c9a47e",
   "metadata": {},
   "outputs": [
    {
     "name": "stdout",
     "output_type": "stream",
     "text": [
      "99\n"
     ]
    }
   ],
   "source": [
    "# Step 6 Ops it seems it is going only until index 99. Is it true?\n",
    "\n",
    "# Yes, it is true\n",
    "print(bigcolumn.index.max())\n"
   ]
  },
  {
   "cell_type": "code",
   "execution_count": 8,
   "id": "3e2064a4",
   "metadata": {},
   "outputs": [],
   "source": [
    "# Step 7 Reindex the DataFrame so it goes from 0 to 299 \n",
    "# Reindexing the DataFrame\n",
    "bigcolumn.reset_index(drop=True, inplace=True)\n",
    "bigcolumn.index = pd.RangeIndex(start=0, stop=300, step=1)\n"
   ]
  },
  {
   "cell_type": "code",
   "execution_count": 9,
   "id": "f8ad2971",
   "metadata": {},
   "outputs": [
    {
     "data": {
      "text/html": [
       "<div>\n",
       "<style scoped>\n",
       "    .dataframe tbody tr th:only-of-type {\n",
       "        vertical-align: middle;\n",
       "    }\n",
       "\n",
       "    .dataframe tbody tr th {\n",
       "        vertical-align: top;\n",
       "    }\n",
       "\n",
       "    .dataframe thead th {\n",
       "        text-align: right;\n",
       "    }\n",
       "</style>\n",
       "<table border=\"1\" class=\"dataframe\">\n",
       "  <thead>\n",
       "    <tr style=\"text-align: right;\">\n",
       "      <th></th>\n",
       "      <th>0</th>\n",
       "    </tr>\n",
       "  </thead>\n",
       "  <tbody>\n",
       "    <tr>\n",
       "      <th>0</th>\n",
       "      <td>2</td>\n",
       "    </tr>\n",
       "    <tr>\n",
       "      <th>1</th>\n",
       "      <td>2</td>\n",
       "    </tr>\n",
       "    <tr>\n",
       "      <th>2</th>\n",
       "      <td>1</td>\n",
       "    </tr>\n",
       "    <tr>\n",
       "      <th>3</th>\n",
       "      <td>2</td>\n",
       "    </tr>\n",
       "    <tr>\n",
       "      <th>4</th>\n",
       "      <td>2</td>\n",
       "    </tr>\n",
       "    <tr>\n",
       "      <th>...</th>\n",
       "      <td>...</td>\n",
       "    </tr>\n",
       "    <tr>\n",
       "      <th>295</th>\n",
       "      <td>18970</td>\n",
       "    </tr>\n",
       "    <tr>\n",
       "      <th>296</th>\n",
       "      <td>13429</td>\n",
       "    </tr>\n",
       "    <tr>\n",
       "      <th>297</th>\n",
       "      <td>19316</td>\n",
       "    </tr>\n",
       "    <tr>\n",
       "      <th>298</th>\n",
       "      <td>28924</td>\n",
       "    </tr>\n",
       "    <tr>\n",
       "      <th>299</th>\n",
       "      <td>21398</td>\n",
       "    </tr>\n",
       "  </tbody>\n",
       "</table>\n",
       "<p>300 rows × 1 columns</p>\n",
       "</div>"
      ],
      "text/plain": [
       "         0\n",
       "0        2\n",
       "1        2\n",
       "2        1\n",
       "3        2\n",
       "4        2\n",
       "..     ...\n",
       "295  18970\n",
       "296  13429\n",
       "297  19316\n",
       "298  28924\n",
       "299  21398\n",
       "\n",
       "[300 rows x 1 columns]"
      ]
     },
     "execution_count": 9,
     "metadata": {},
     "output_type": "execute_result"
    }
   ],
   "source": [
    "bigcolumn"
   ]
  },
  {
   "cell_type": "code",
   "execution_count": null,
   "id": "072d0676",
   "metadata": {},
   "outputs": [],
   "source": []
  }
 ],
 "metadata": {
  "kernelspec": {
   "display_name": "Python 3 (ipykernel)",
   "language": "python",
   "name": "python3"
  },
  "language_info": {
   "codemirror_mode": {
    "name": "ipython",
    "version": 3
   },
   "file_extension": ".py",
   "mimetype": "text/x-python",
   "name": "python",
   "nbconvert_exporter": "python",
   "pygments_lexer": "ipython3",
   "version": "3.8.13"
  }
 },
 "nbformat": 4,
 "nbformat_minor": 5
}
