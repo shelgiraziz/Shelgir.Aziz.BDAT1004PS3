{
 "cells": [
  {
   "cell_type": "code",
   "execution_count": 2,
   "id": "c1f5f597",
   "metadata": {},
   "outputs": [],
   "source": [
    "# Step 1 Import the necessary libraries\n",
    "import pandas as pd\n"
   ]
  },
  {
   "cell_type": "code",
   "execution_count": 4,
   "id": "08cbb387",
   "metadata": {},
   "outputs": [],
   "source": [
    "# Step 2 Import the dataset\n",
    "# Step 3 Assign it to a variable called users \n",
    "\n",
    "url = 'https://raw.githubusercontent.com/justmarkham/DAT8/master/data/u.user'\n",
    "users = pd.read_csv(url, sep='|')\n"
   ]
  },
  {
   "cell_type": "code",
   "execution_count": 6,
   "id": "73996435",
   "metadata": {},
   "outputs": [
    {
     "name": "stdout",
     "output_type": "stream",
     "text": [
      "occupation\n",
      "administrator    38.746835\n",
      "artist           31.392857\n",
      "doctor           43.571429\n",
      "educator         42.010526\n",
      "engineer         36.388060\n",
      "entertainment    29.222222\n",
      "executive        38.718750\n",
      "healthcare       41.562500\n",
      "homemaker        32.571429\n",
      "lawyer           36.750000\n",
      "librarian        40.000000\n",
      "marketing        37.615385\n",
      "none             26.555556\n",
      "other            34.523810\n",
      "programmer       33.121212\n",
      "retired          63.071429\n",
      "salesman         35.666667\n",
      "scientist        35.548387\n",
      "student          22.081633\n",
      "technician       33.148148\n",
      "writer           36.311111\n",
      "Name: age, dtype: float64\n"
     ]
    }
   ],
   "source": [
    "# Step 4 Discover what is the mean age per occupation\n",
    "mean_age_by_occupation = users.groupby('occupation').age.mean()\n",
    "print(mean_age_by_occupation)\n"
   ]
  },
  {
   "cell_type": "code",
   "execution_count": 7,
   "id": "eadaa869",
   "metadata": {},
   "outputs": [
    {
     "name": "stdout",
     "output_type": "stream",
     "text": [
      "occupation\n",
      "doctor           1.000000\n",
      "engineer         0.970149\n",
      "technician       0.962963\n",
      "retired          0.928571\n",
      "programmer       0.909091\n",
      "executive        0.906250\n",
      "scientist        0.903226\n",
      "entertainment    0.888889\n",
      "lawyer           0.833333\n",
      "salesman         0.750000\n",
      "educator         0.726316\n",
      "student          0.693878\n",
      "other            0.657143\n",
      "marketing        0.615385\n",
      "writer           0.577778\n",
      "none             0.555556\n",
      "administrator    0.544304\n",
      "artist           0.535714\n",
      "librarian        0.431373\n",
      "healthcare       0.312500\n",
      "homemaker        0.142857\n",
      "Name: male, dtype: float64\n"
     ]
    }
   ],
   "source": [
    "# Step 5 Discover the Male ratio per occupation and sort it from the most to the least\n",
    "def male_ratio(x):\n",
    "    if x == 'M':\n",
    "        return 1\n",
    "    if x == 'F':\n",
    "        return 0\n",
    "    else:\n",
    "        return None\n",
    "\n",
    "users['male'] = users.gender.apply(male_ratio)\n",
    "male_ratio_by_occupation = users.groupby('occupation').male.mean().sort_values(ascending=False)\n",
    "print(male_ratio_by_occupation)\n"
   ]
  },
  {
   "cell_type": "code",
   "execution_count": 8,
   "id": "e9ef9201",
   "metadata": {},
   "outputs": [
    {
     "name": "stdout",
     "output_type": "stream",
     "text": [
      "occupation\n",
      "administrator    21\n",
      "artist           19\n",
      "doctor           28\n",
      "educator         23\n",
      "engineer         22\n",
      "entertainment    15\n",
      "executive        22\n",
      "healthcare       22\n",
      "homemaker        20\n",
      "lawyer           21\n",
      "librarian        23\n",
      "marketing        24\n",
      "none             11\n",
      "other            13\n",
      "programmer       20\n",
      "retired          51\n",
      "salesman         18\n",
      "scientist        23\n",
      "student           7\n",
      "technician       21\n",
      "writer           18\n",
      "Name: age, dtype: int64\n",
      "occupation\n",
      "administrator    70\n",
      "artist           48\n",
      "doctor           64\n",
      "educator         63\n",
      "engineer         70\n",
      "entertainment    50\n",
      "executive        69\n",
      "healthcare       62\n",
      "homemaker        50\n",
      "lawyer           53\n",
      "librarian        69\n",
      "marketing        55\n",
      "none             55\n",
      "other            64\n",
      "programmer       63\n",
      "retired          73\n",
      "salesman         66\n",
      "scientist        55\n",
      "student          42\n",
      "technician       55\n",
      "writer           60\n",
      "Name: age, dtype: int64\n"
     ]
    }
   ],
   "source": [
    "# Step 6 For each occupation, calculate the minimum and maximum ages\n",
    "min_age_by_occupation = users.groupby('occupation').age.min()\n",
    "max_age_by_occupation = users.groupby('occupation').age.max()\n",
    "print(min_age_by_occupation)\n",
    "print(max_age_by_occupation)\n"
   ]
  },
  {
   "cell_type": "code",
   "execution_count": 9,
   "id": "ce05f75a",
   "metadata": {},
   "outputs": [
    {
     "name": "stdout",
     "output_type": "stream",
     "text": [
      "occupation     gender\n",
      "administrator  F         40.638889\n",
      "               M         37.162791\n",
      "artist         F         30.307692\n",
      "               M         32.333333\n",
      "doctor         M         43.571429\n",
      "educator       F         39.115385\n",
      "               M         43.101449\n",
      "engineer       F         29.500000\n",
      "               M         36.600000\n",
      "entertainment  F         31.000000\n",
      "               M         29.000000\n",
      "executive      F         44.000000\n",
      "               M         38.172414\n",
      "healthcare     F         39.818182\n",
      "               M         45.400000\n",
      "homemaker      F         34.166667\n",
      "               M         23.000000\n",
      "lawyer         F         39.500000\n",
      "               M         36.200000\n",
      "librarian      F         40.000000\n",
      "               M         40.000000\n",
      "marketing      F         37.200000\n",
      "               M         37.875000\n",
      "none           F         36.500000\n",
      "               M         18.600000\n",
      "other          F         35.472222\n",
      "               M         34.028986\n",
      "programmer     F         32.166667\n",
      "               M         33.216667\n",
      "retired        F         70.000000\n",
      "               M         62.538462\n",
      "salesman       F         27.000000\n",
      "               M         38.555556\n",
      "scientist      F         28.333333\n",
      "               M         36.321429\n",
      "student        F         20.750000\n",
      "               M         22.669118\n",
      "technician     F         38.000000\n",
      "               M         32.961538\n",
      "writer         F         37.631579\n",
      "               M         35.346154\n",
      "Name: age, dtype: float64\n"
     ]
    }
   ],
   "source": [
    "# Step 7 For each combination of occupation and sex, calculate the mean age\n",
    "mean_age_by_occ_sex = users.groupby(['occupation', 'gender']).age.mean()\n",
    "print(mean_age_by_occ_sex)\n"
   ]
  },
  {
   "cell_type": "code",
   "execution_count": 10,
   "id": "aca823fb",
   "metadata": {},
   "outputs": [
    {
     "name": "stdout",
     "output_type": "stream",
     "text": [
      "occupation     gender\n",
      "administrator  M         0.544304\n",
      "               F         0.455696\n",
      "artist         M         0.535714\n",
      "               F         0.464286\n",
      "doctor         M         1.000000\n",
      "educator       M         0.726316\n",
      "               F         0.273684\n",
      "engineer       M         0.970149\n",
      "               F         0.029851\n",
      "entertainment  M         0.888889\n",
      "               F         0.111111\n",
      "executive      M         0.906250\n",
      "               F         0.093750\n",
      "healthcare     F         0.687500\n",
      "               M         0.312500\n",
      "homemaker      F         0.857143\n",
      "               M         0.142857\n",
      "lawyer         M         0.833333\n",
      "               F         0.166667\n",
      "librarian      F         0.568627\n",
      "               M         0.431373\n",
      "marketing      M         0.615385\n",
      "               F         0.384615\n",
      "none           M         0.555556\n",
      "               F         0.444444\n",
      "other          M         0.657143\n",
      "               F         0.342857\n",
      "programmer     M         0.909091\n",
      "               F         0.090909\n",
      "retired        M         0.928571\n",
      "               F         0.071429\n",
      "salesman       M         0.750000\n",
      "               F         0.250000\n",
      "scientist      M         0.903226\n",
      "               F         0.096774\n",
      "student        M         0.693878\n",
      "               F         0.306122\n",
      "technician     M         0.962963\n",
      "               F         0.037037\n",
      "writer         M         0.577778\n",
      "               F         0.422222\n",
      "Name: gender, dtype: float64\n"
     ]
    }
   ],
   "source": [
    "# Steps 8 For each occupation present the percentage of women and men\n",
    "gender_by_occupation = users.groupby('occupation').gender.value_counts(normalize=True)\n",
    "print(gender_by_occupation)\n"
   ]
  },
  {
   "cell_type": "code",
   "execution_count": null,
   "id": "d99c0acf",
   "metadata": {},
   "outputs": [],
   "source": []
  }
 ],
 "metadata": {
  "kernelspec": {
   "display_name": "Python 3 (ipykernel)",
   "language": "python",
   "name": "python3"
  },
  "language_info": {
   "codemirror_mode": {
    "name": "ipython",
    "version": 3
   },
   "file_extension": ".py",
   "mimetype": "text/x-python",
   "name": "python",
   "nbconvert_exporter": "python",
   "pygments_lexer": "ipython3",
   "version": "3.8.13"
  }
 },
 "nbformat": 4,
 "nbformat_minor": 5
}
